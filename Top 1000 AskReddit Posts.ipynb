{
 "cells": [
  {
   "cell_type": "markdown",
   "metadata": {},
   "source": [
    "### Data Description\n",
    "This dataset contains the **top 1000 questions** asked on **AskReddit**, created by reddit user P_S_laplace. It contains 5 features: Title, Score, Gold, NumComs and NSFW. The dataset is shared as a Google Spreasheet on Google Drive.\n",
    "[Link](http://www.datasets.co/dataset/56841e8a13565a030058bcf7)"
   ]
  },
  {
   "cell_type": "markdown",
   "metadata": {},
   "source": [
    "**Method One**"
   ]
  },
  {
   "cell_type": "markdown",
   "metadata": {},
   "source": [
    "Read .csv file using csv library:"
   ]
  },
  {
   "cell_type": "code",
   "execution_count": 2,
   "metadata": {
    "collapsed": false
   },
   "outputs": [],
   "source": [
    "import csv\n",
    "f = open('2015-data.csv')\n",
    "csvreader = csv.reader(f)\n",
    "posts = list(csvreader)"
   ]
  },
  {
   "cell_type": "markdown",
   "metadata": {},
   "source": [
    "Look through the first 5 lines:"
   ]
  },
  {
   "cell_type": "code",
   "execution_count": 5,
   "metadata": {
    "collapsed": false
   },
   "outputs": [
    {
     "data": {
      "text/plain": [
       "[['Title', 'Score', 'Time', 'Gold', 'NumComs', 'NSFW'],\n",
       " ['What\\'s your internet \"white whale\", something you\\'ve been searching for years to find with no luck?',\n",
       "  '11510',\n",
       "  '1433213314.0',\n",
       "  '1',\n",
       "  '26195',\n",
       "  'False'],\n",
       " [\"What's your favorite video that is 10 seconds or less?\",\n",
       "  '8656',\n",
       "  '1434205517.0',\n",
       "  '4',\n",
       "  '8479',\n",
       "  'False'],\n",
       " ['What are some interesting tests you can take to find out about yourself?',\n",
       "  '8480',\n",
       "  '1443409636.0',\n",
       "  '1',\n",
       "  '4055',\n",
       "  'False'],\n",
       " [\"PhD's of Reddit. What is a dumbed down summary of your thesis?\",\n",
       "  '7927',\n",
       "  '1440188623.0',\n",
       "  '0',\n",
       "  '13201',\n",
       "  'False']]"
      ]
     },
     "execution_count": 5,
     "metadata": {},
     "output_type": "execute_result"
    }
   ],
   "source": [
    "posts[0:5]"
   ]
  },
  {
   "cell_type": "markdown",
   "metadata": {},
   "source": [
    "We have to delete the first line because its the column name."
   ]
  },
  {
   "cell_type": "code",
   "execution_count": 6,
   "metadata": {
    "collapsed": false
   },
   "outputs": [
    {
     "data": {
      "text/plain": [
       "[['What\\'s your internet \"white whale\", something you\\'ve been searching for years to find with no luck?',\n",
       "  '11510',\n",
       "  '1433213314.0',\n",
       "  '1',\n",
       "  '26195',\n",
       "  'False'],\n",
       " [\"What's your favorite video that is 10 seconds or less?\",\n",
       "  '8656',\n",
       "  '1434205517.0',\n",
       "  '4',\n",
       "  '8479',\n",
       "  'False'],\n",
       " ['What are some interesting tests you can take to find out about yourself?',\n",
       "  '8480',\n",
       "  '1443409636.0',\n",
       "  '1',\n",
       "  '4055',\n",
       "  'False'],\n",
       " [\"PhD's of Reddit. What is a dumbed down summary of your thesis?\",\n",
       "  '7927',\n",
       "  '1440188623.0',\n",
       "  '0',\n",
       "  '13201',\n",
       "  'False'],\n",
       " ['What is cool to be good at, yet uncool to be REALLY good at?',\n",
       "  '7711',\n",
       "  '1440082910.0',\n",
       "  '0',\n",
       "  '20325',\n",
       "  'False']]"
      ]
     },
     "execution_count": 6,
     "metadata": {},
     "output_type": "execute_result"
    }
   ],
   "source": [
    "posts = posts[1:]\n",
    "posts[0:5]"
   ]
  },
  {
   "cell_type": "markdown",
   "metadata": {},
   "source": [
    "Reformatting time from string to [datetime object](https://docs.python.org/3/library/datetime.html#strftime-and-strptime-behavior):"
   ]
  },
  {
   "cell_type": "code",
   "execution_count": 7,
   "metadata": {
    "collapsed": false
   },
   "outputs": [
    {
     "data": {
      "text/plain": [
       "[['What\\'s your internet \"white whale\", something you\\'ve been searching for years to find with no luck?',\n",
       "  '11510',\n",
       "  datetime.datetime(2015, 6, 1, 22, 48, 34),\n",
       "  '1',\n",
       "  '26195',\n",
       "  'False'],\n",
       " [\"What's your favorite video that is 10 seconds or less?\",\n",
       "  '8656',\n",
       "  datetime.datetime(2015, 6, 13, 10, 25, 17),\n",
       "  '4',\n",
       "  '8479',\n",
       "  'False']]"
      ]
     },
     "execution_count": 7,
     "metadata": {},
     "output_type": "execute_result"
    }
   ],
   "source": [
    "import datetime\n",
    "for row in posts:\n",
    "    row[2] = float(row[2])\n",
    "    row[2] = datetime.datetime.fromtimestamp(row[2])\n",
    "    \n",
    "posts[0:2]"
   ]
  },
  {
   "cell_type": "markdown",
   "metadata": {},
   "source": [
    "To count how many posts were posted in March:"
   ]
  },
  {
   "cell_type": "code",
   "execution_count": 9,
   "metadata": {
    "collapsed": false
   },
   "outputs": [
    {
     "name": "stdout",
     "output_type": "stream",
     "text": [
      "There are 66.0 posted in March\n"
     ]
    }
   ],
   "source": [
    "march_count = 0\n",
    "for row in posts:\n",
    "    if row[2].month==3:\n",
    "        march_count += 1\n",
    "\n",
    "print 'There are %.1f posted in March' %march_count"
   ]
  },
  {
   "cell_type": "markdown",
   "metadata": {},
   "source": [
    "Formating time:"
   ]
  },
  {
   "cell_type": "code",
   "execution_count": 10,
   "metadata": {
    "collapsed": false,
    "scrolled": true
   },
   "outputs": [
    {
     "name": "stdout",
     "output_type": "stream",
     "text": [
      "2010-03-03 00:00:00\n",
      "Mar 03, 2010\n"
     ]
    }
   ],
   "source": [
    "march3 = datetime.datetime(year = 2010, month = 3, day = 3)\n",
    "print march3\n",
    "\n",
    "pretty_march3 = march3.strftime(\"%b %d, %Y\")\n",
    "print pretty_march3"
   ]
  },
  {
   "cell_type": "markdown",
   "metadata": {},
   "source": [
    "Parsing time:"
   ]
  },
  {
   "cell_type": "code",
   "execution_count": 11,
   "metadata": {
    "collapsed": false
   },
   "outputs": [
    {
     "name": "stdout",
     "output_type": "stream",
     "text": [
      "2010-03-03 00:00:00\n"
     ]
    }
   ],
   "source": [
    "March3 = datetime.datetime.strptime(pretty_march3, '%b %d, %Y')\n",
    "print March3"
   ]
  },
  {
   "cell_type": "markdown",
   "metadata": {},
   "source": [
    "#### Method Two"
   ]
  },
  {
   "cell_type": "markdown",
   "metadata": {},
   "source": [
    "**1.Read the csv file by pandas:**"
   ]
  },
  {
   "cell_type": "code",
   "execution_count": 12,
   "metadata": {
    "collapsed": false
   },
   "outputs": [
    {
     "data": {
      "text/html": [
       "<div>\n",
       "<table border=\"1\" class=\"dataframe\">\n",
       "  <thead>\n",
       "    <tr style=\"text-align: right;\">\n",
       "      <th></th>\n",
       "      <th>Title</th>\n",
       "      <th>Score</th>\n",
       "      <th>Time</th>\n",
       "      <th>Gold</th>\n",
       "      <th>NumComs</th>\n",
       "      <th>NSFW</th>\n",
       "    </tr>\n",
       "  </thead>\n",
       "  <tbody>\n",
       "    <tr>\n",
       "      <th>0</th>\n",
       "      <td>What's your internet \"white whale\", something ...</td>\n",
       "      <td>11510</td>\n",
       "      <td>1.433213e+09</td>\n",
       "      <td>1</td>\n",
       "      <td>26195</td>\n",
       "      <td>False</td>\n",
       "    </tr>\n",
       "    <tr>\n",
       "      <th>1</th>\n",
       "      <td>What's your favorite video that is 10 seconds ...</td>\n",
       "      <td>8656</td>\n",
       "      <td>1.434206e+09</td>\n",
       "      <td>4</td>\n",
       "      <td>8479</td>\n",
       "      <td>False</td>\n",
       "    </tr>\n",
       "    <tr>\n",
       "      <th>2</th>\n",
       "      <td>What are some interesting tests you can take t...</td>\n",
       "      <td>8480</td>\n",
       "      <td>1.443410e+09</td>\n",
       "      <td>1</td>\n",
       "      <td>4055</td>\n",
       "      <td>False</td>\n",
       "    </tr>\n",
       "    <tr>\n",
       "      <th>3</th>\n",
       "      <td>PhD's of Reddit. What is a dumbed down summary...</td>\n",
       "      <td>7927</td>\n",
       "      <td>1.440189e+09</td>\n",
       "      <td>0</td>\n",
       "      <td>13201</td>\n",
       "      <td>False</td>\n",
       "    </tr>\n",
       "    <tr>\n",
       "      <th>4</th>\n",
       "      <td>What is cool to be good at, yet uncool to be R...</td>\n",
       "      <td>7711</td>\n",
       "      <td>1.440083e+09</td>\n",
       "      <td>0</td>\n",
       "      <td>20325</td>\n",
       "      <td>False</td>\n",
       "    </tr>\n",
       "  </tbody>\n",
       "</table>\n",
       "</div>"
      ],
      "text/plain": [
       "                                               Title  Score          Time  \\\n",
       "0  What's your internet \"white whale\", something ...  11510  1.433213e+09   \n",
       "1  What's your favorite video that is 10 seconds ...   8656  1.434206e+09   \n",
       "2  What are some interesting tests you can take t...   8480  1.443410e+09   \n",
       "3  PhD's of Reddit. What is a dumbed down summary...   7927  1.440189e+09   \n",
       "4  What is cool to be good at, yet uncool to be R...   7711  1.440083e+09   \n",
       "\n",
       "   Gold  NumComs   NSFW  \n",
       "0     1    26195  False  \n",
       "1     4     8479  False  \n",
       "2     1     4055  False  \n",
       "3     0    13201  False  \n",
       "4     0    20325  False  "
      ]
     },
     "execution_count": 12,
     "metadata": {},
     "output_type": "execute_result"
    }
   ],
   "source": [
    "import pandas as pd\n",
    "\n",
    "data = pd.read_csv('2015-data.csv')\n",
    "data.head()"
   ]
  },
  {
   "cell_type": "code",
   "execution_count": 17,
   "metadata": {
    "collapsed": false
   },
   "outputs": [
    {
     "name": "stdout",
     "output_type": "stream",
     "text": [
      "(1000, 6)\n"
     ]
    }
   ],
   "source": [
    "print data.shape"
   ]
  },
  {
   "cell_type": "markdown",
   "metadata": {},
   "source": [
    "**2.Reformatting time from string to [datetime object](https://docs.python.org/3/library/datetime.html#strftime-and-strptime-behavior):**"
   ]
  },
  {
   "cell_type": "code",
   "execution_count": 18,
   "metadata": {
    "collapsed": false
   },
   "outputs": [
    {
     "data": {
      "text/html": [
       "<div>\n",
       "<table border=\"1\" class=\"dataframe\">\n",
       "  <thead>\n",
       "    <tr style=\"text-align: right;\">\n",
       "      <th></th>\n",
       "      <th>Title</th>\n",
       "      <th>Score</th>\n",
       "      <th>Time</th>\n",
       "      <th>Gold</th>\n",
       "      <th>NumComs</th>\n",
       "      <th>NSFW</th>\n",
       "    </tr>\n",
       "  </thead>\n",
       "  <tbody>\n",
       "    <tr>\n",
       "      <th>0</th>\n",
       "      <td>What's your internet \"white whale\", something ...</td>\n",
       "      <td>11510</td>\n",
       "      <td>2015-06-01 22:48:34</td>\n",
       "      <td>1</td>\n",
       "      <td>26195</td>\n",
       "      <td>False</td>\n",
       "    </tr>\n",
       "    <tr>\n",
       "      <th>1</th>\n",
       "      <td>What's your favorite video that is 10 seconds ...</td>\n",
       "      <td>8656</td>\n",
       "      <td>2015-06-13 10:25:17</td>\n",
       "      <td>4</td>\n",
       "      <td>8479</td>\n",
       "      <td>False</td>\n",
       "    </tr>\n",
       "    <tr>\n",
       "      <th>2</th>\n",
       "      <td>What are some interesting tests you can take t...</td>\n",
       "      <td>8480</td>\n",
       "      <td>2015-09-27 23:07:16</td>\n",
       "      <td>1</td>\n",
       "      <td>4055</td>\n",
       "      <td>False</td>\n",
       "    </tr>\n",
       "    <tr>\n",
       "      <th>3</th>\n",
       "      <td>PhD's of Reddit. What is a dumbed down summary...</td>\n",
       "      <td>7927</td>\n",
       "      <td>2015-08-21 16:23:43</td>\n",
       "      <td>0</td>\n",
       "      <td>13201</td>\n",
       "      <td>False</td>\n",
       "    </tr>\n",
       "    <tr>\n",
       "      <th>4</th>\n",
       "      <td>What is cool to be good at, yet uncool to be R...</td>\n",
       "      <td>7711</td>\n",
       "      <td>2015-08-20 11:01:50</td>\n",
       "      <td>0</td>\n",
       "      <td>20325</td>\n",
       "      <td>False</td>\n",
       "    </tr>\n",
       "  </tbody>\n",
       "</table>\n",
       "</div>"
      ],
      "text/plain": [
       "                                               Title  Score  \\\n",
       "0  What's your internet \"white whale\", something ...  11510   \n",
       "1  What's your favorite video that is 10 seconds ...   8656   \n",
       "2  What are some interesting tests you can take t...   8480   \n",
       "3  PhD's of Reddit. What is a dumbed down summary...   7927   \n",
       "4  What is cool to be good at, yet uncool to be R...   7711   \n",
       "\n",
       "                 Time  Gold  NumComs   NSFW  \n",
       "0 2015-06-01 22:48:34     1    26195  False  \n",
       "1 2015-06-13 10:25:17     4     8479  False  \n",
       "2 2015-09-27 23:07:16     1     4055  False  \n",
       "3 2015-08-21 16:23:43     0    13201  False  \n",
       "4 2015-08-20 11:01:50     0    20325  False  "
      ]
     },
     "execution_count": 18,
     "metadata": {},
     "output_type": "execute_result"
    }
   ],
   "source": [
    "def reformat_time(x):\n",
    "    x = float(x)\n",
    "    return datetime.datetime.fromtimestamp(x)\n",
    "\n",
    "data['Time'] = data['Time'].apply(reformat_time)\n",
    "data.head()"
   ]
  },
  {
   "cell_type": "markdown",
   "metadata": {},
   "source": [
    "**3.To count how many posts were posted in March:**"
   ]
  },
  {
   "cell_type": "code",
   "execution_count": 41,
   "metadata": {
    "collapsed": false
   },
   "outputs": [
    {
     "data": {
      "text/plain": [
       "66"
      ]
     },
     "execution_count": 41,
     "metadata": {},
     "output_type": "execute_result"
    }
   ],
   "source": [
    "def count_march(x):\n",
    "    new_x = x.to_datetime() # convert timestamp to datetime;\n",
    "    count_m = 0\n",
    "    if new_x.month == 3:\n",
    "        count_m += 1\n",
    "    return count_m\n",
    "\n",
    "sum(data['Time'].apply(count_march))"
   ]
  },
  {
   "cell_type": "markdown",
   "metadata": {},
   "source": [
    "**4.To look through the distribution of posts over month:**"
   ]
  },
  {
   "cell_type": "code",
   "execution_count": 42,
   "metadata": {
    "collapsed": false
   },
   "outputs": [
    {
     "data": {
      "text/html": [
       "<div>\n",
       "<table border=\"1\" class=\"dataframe\">\n",
       "  <thead>\n",
       "    <tr style=\"text-align: right;\">\n",
       "      <th></th>\n",
       "      <th>Title</th>\n",
       "      <th>Score</th>\n",
       "      <th>Time</th>\n",
       "      <th>Gold</th>\n",
       "      <th>NumComs</th>\n",
       "      <th>NSFW</th>\n",
       "      <th>MONTH</th>\n",
       "    </tr>\n",
       "  </thead>\n",
       "  <tbody>\n",
       "    <tr>\n",
       "      <th>0</th>\n",
       "      <td>What's your internet \"white whale\", something ...</td>\n",
       "      <td>11510</td>\n",
       "      <td>2015-06-01 22:48:34</td>\n",
       "      <td>1</td>\n",
       "      <td>26195</td>\n",
       "      <td>False</td>\n",
       "      <td>6</td>\n",
       "    </tr>\n",
       "    <tr>\n",
       "      <th>1</th>\n",
       "      <td>What's your favorite video that is 10 seconds ...</td>\n",
       "      <td>8656</td>\n",
       "      <td>2015-06-13 10:25:17</td>\n",
       "      <td>4</td>\n",
       "      <td>8479</td>\n",
       "      <td>False</td>\n",
       "      <td>6</td>\n",
       "    </tr>\n",
       "    <tr>\n",
       "      <th>2</th>\n",
       "      <td>What are some interesting tests you can take t...</td>\n",
       "      <td>8480</td>\n",
       "      <td>2015-09-27 23:07:16</td>\n",
       "      <td>1</td>\n",
       "      <td>4055</td>\n",
       "      <td>False</td>\n",
       "      <td>9</td>\n",
       "    </tr>\n",
       "    <tr>\n",
       "      <th>3</th>\n",
       "      <td>PhD's of Reddit. What is a dumbed down summary...</td>\n",
       "      <td>7927</td>\n",
       "      <td>2015-08-21 16:23:43</td>\n",
       "      <td>0</td>\n",
       "      <td>13201</td>\n",
       "      <td>False</td>\n",
       "      <td>8</td>\n",
       "    </tr>\n",
       "    <tr>\n",
       "      <th>4</th>\n",
       "      <td>What is cool to be good at, yet uncool to be R...</td>\n",
       "      <td>7711</td>\n",
       "      <td>2015-08-20 11:01:50</td>\n",
       "      <td>0</td>\n",
       "      <td>20325</td>\n",
       "      <td>False</td>\n",
       "      <td>8</td>\n",
       "    </tr>\n",
       "  </tbody>\n",
       "</table>\n",
       "</div>"
      ],
      "text/plain": [
       "                                               Title  Score  \\\n",
       "0  What's your internet \"white whale\", something ...  11510   \n",
       "1  What's your favorite video that is 10 seconds ...   8656   \n",
       "2  What are some interesting tests you can take t...   8480   \n",
       "3  PhD's of Reddit. What is a dumbed down summary...   7927   \n",
       "4  What is cool to be good at, yet uncool to be R...   7711   \n",
       "\n",
       "                 Time  Gold  NumComs   NSFW  MONTH  \n",
       "0 2015-06-01 22:48:34     1    26195  False      6  \n",
       "1 2015-06-13 10:25:17     4     8479  False      6  \n",
       "2 2015-09-27 23:07:16     1     4055  False      9  \n",
       "3 2015-08-21 16:23:43     0    13201  False      8  \n",
       "4 2015-08-20 11:01:50     0    20325  False      8  "
      ]
     },
     "execution_count": 42,
     "metadata": {},
     "output_type": "execute_result"
    }
   ],
   "source": [
    "def add_month(x):\n",
    "    new_x = x.to_datetime() # convert timestamp to datetime;\n",
    "    return new_x.month\n",
    "\n",
    "data['MONTH'] = data['Time'].apply(add_month)\n",
    "data.head()"
   ]
  },
  {
   "cell_type": "code",
   "execution_count": 43,
   "metadata": {
    "collapsed": true
   },
   "outputs": [],
   "source": [
    "import matplotlib.pyplot as plt\n",
    "%matplotlib inline"
   ]
  },
  {
   "cell_type": "code",
   "execution_count": 47,
   "metadata": {
    "collapsed": false
   },
   "outputs": [
    {
     "data": {
      "text/plain": [
       "<matplotlib.text.Text at 0x827b8f0>"
      ]
     },
     "execution_count": 47,
     "metadata": {},
     "output_type": "execute_result"
    },
    {
     "data": {
      "image/png": "[encoded data removed]",
      "text/plain": [
       "<matplotlib.figure.Figure at 0x7aad8d0>"
      ]
     },
     "metadata": {},
     "output_type": "display_data"
    }
   ],
   "source": [
    "data.groupby(by = 'MONTH')['Title'].count().plot(kind = 'bar')\n",
    "plt.ylabel('Count')\n",
    "plt.title('The distribution of posts over month')"
   ]
  },
  {
   "cell_type": "markdown",
   "metadata": {},
   "source": [
    "**5.Which post got the most comment and what about its content?**"
   ]
  },
  {
   "cell_type": "code",
   "execution_count": 50,
   "metadata": {
    "collapsed": false,
    "scrolled": true
   },
   "outputs": [
    {
     "data": {
      "text/html": [
       "<div>\n",
       "<table border=\"1\" class=\"dataframe\">\n",
       "  <thead>\n",
       "    <tr style=\"text-align: right;\">\n",
       "      <th></th>\n",
       "      <th>Title</th>\n",
       "      <th>Score</th>\n",
       "      <th>Time</th>\n",
       "      <th>Gold</th>\n",
       "      <th>NumComs</th>\n",
       "      <th>NSFW</th>\n",
       "      <th>MONTH</th>\n",
       "    </tr>\n",
       "  </thead>\n",
       "  <tbody>\n",
       "    <tr>\n",
       "      <th>89</th>\n",
       "      <td>What is a non-racist, non-sexist, and non \"hat...</td>\n",
       "      <td>5550</td>\n",
       "      <td>2015-08-07 07:47:21</td>\n",
       "      <td>1</td>\n",
       "      <td>58822</td>\n",
       "      <td>False</td>\n",
       "      <td>8</td>\n",
       "    </tr>\n",
       "  </tbody>\n",
       "</table>\n",
       "</div>"
      ],
      "text/plain": [
       "                                                Title  Score  \\\n",
       "89  What is a non-racist, non-sexist, and non \"hat...   5550   \n",
       "\n",
       "                  Time  Gold  NumComs   NSFW  MONTH  \n",
       "89 2015-08-07 07:47:21     1    58822  False      8  "
      ]
     },
     "execution_count": 50,
     "metadata": {},
     "output_type": "execute_result"
    }
   ],
   "source": [
    "max_comment = data[data['NumComs'] == max(data['NumComs'])]\n",
    "max_comment"
   ]
  },
  {
   "cell_type": "code",
   "execution_count": 57,
   "metadata": {
    "collapsed": false
   },
   "outputs": [
    {
     "data": {
      "text/plain": [
       "'What is a non-racist, non-sexist, and non \"hateful\" opinion you have that would make people dislike you?'"
      ]
     },
     "execution_count": 57,
     "metadata": {},
     "output_type": "execute_result"
    }
   ],
   "source": [
    "# Using .values to get the content of a Series!!!\n",
    "max_comment['Title'].values[0]"
   ]
  },
  {
   "cell_type": "markdown",
   "metadata": {},
   "source": [
    "**6.Which post got the highest score?**"
   ]
  },
  {
   "cell_type": "code",
   "execution_count": 58,
   "metadata": {
    "collapsed": false
   },
   "outputs": [
    {
     "data": {
      "text/html": [
       "<div>\n",
       "<table border=\"1\" class=\"dataframe\">\n",
       "  <thead>\n",
       "    <tr style=\"text-align: right;\">\n",
       "      <th></th>\n",
       "      <th>Title</th>\n",
       "      <th>Score</th>\n",
       "      <th>Time</th>\n",
       "      <th>Gold</th>\n",
       "      <th>NumComs</th>\n",
       "      <th>NSFW</th>\n",
       "      <th>MONTH</th>\n",
       "    </tr>\n",
       "  </thead>\n",
       "  <tbody>\n",
       "    <tr>\n",
       "      <th>0</th>\n",
       "      <td>What's your internet \"white whale\", something ...</td>\n",
       "      <td>11510</td>\n",
       "      <td>2015-06-01 22:48:34</td>\n",
       "      <td>1</td>\n",
       "      <td>26195</td>\n",
       "      <td>False</td>\n",
       "      <td>6</td>\n",
       "    </tr>\n",
       "  </tbody>\n",
       "</table>\n",
       "</div>"
      ],
      "text/plain": [
       "                                               Title  Score  \\\n",
       "0  What's your internet \"white whale\", something ...  11510   \n",
       "\n",
       "                 Time  Gold  NumComs   NSFW  MONTH  \n",
       "0 2015-06-01 22:48:34     1    26195  False      6  "
      ]
     },
     "execution_count": 58,
     "metadata": {},
     "output_type": "execute_result"
    }
   ],
   "source": [
    "highest_score = data[data['Score'] == max(data['Score'])]\n",
    "highest_score"
   ]
  },
  {
   "cell_type": "code",
   "execution_count": 59,
   "metadata": {
    "collapsed": false
   },
   "outputs": [
    {
     "data": {
      "text/plain": [
       "'What\\'s your internet \"white whale\", something you\\'ve been searching for years to find with no luck?'"
      ]
     },
     "execution_count": 59,
     "metadata": {},
     "output_type": "execute_result"
    }
   ],
   "source": [
    "highest_score['Title'].values[0]"
   ]
  },
  {
   "cell_type": "markdown",
   "metadata": {},
   "source": [
    "**7.There are many titles contain the 'Serious' word. So how many title have it? Can you list some of them?**"
   ]
  },
  {
   "cell_type": "code",
   "execution_count": 65,
   "metadata": {
    "collapsed": false
   },
   "outputs": [
    {
     "data": {
      "text/plain": [
       "Title      [Serious] People of Reddit who have HIV/AIDS, ...\n",
       "Score                                                   6472\n",
       "Time                                     2015-08-10 09:36:59\n",
       "Gold                                                       0\n",
       "NumComs                                                 4296\n",
       "NSFW                                                   False\n",
       "MONTH                                                      8\n",
       "Name: 24, dtype: object"
      ]
     },
     "execution_count": 65,
     "metadata": {},
     "output_type": "execute_result"
    }
   ],
   "source": [
    "def convert_typing(x):\n",
    "    import re\n",
    "    x = re.sub('[\\[\\(][Ss]erious[\\]\\)]', '[Serious]', x)\n",
    "    return x\n",
    "\n",
    "data['Title'] = data['Title'].apply(convert_typing)\n",
    "\n",
    "data.ix[24] \n",
    "# Line 24: (Serious) --> [Serious]"
   ]
  },
  {
   "cell_type": "code",
   "execution_count": 85,
   "metadata": {
    "collapsed": false
   },
   "outputs": [
    {
     "name": "stdout",
     "output_type": "stream",
     "text": [
      "There are 101 \"Serious\" in the top 1000 posts.\n"
     ]
    }
   ],
   "source": [
    "import re\n",
    "count_type = 0 # to count\n",
    "content =list() # to record title content\n",
    "content_index = list() # to record index\n",
    "\n",
    "for i in range(0,data.shape[0]):\n",
    "    if re.search('\\[Serious\\]', data['Title'].values[i]) != None:\n",
    "        content.append(data['Title'].values[i])\n",
    "        count_type += 1\n",
    "        content_index.append(i)\n",
    "        \n",
    "print 'There are %d \"Serious\" in the top 1000 posts.' %(count_type)"
   ]
  },
  {
   "cell_type": "code",
   "execution_count": 82,
   "metadata": {
    "collapsed": false
   },
   "outputs": [
    {
     "data": {
      "text/plain": [
       "['[Serious] Redditors currently in a relationship, besides dinner and a movie, what are your favorite activities for date night?',\n",
       " '[Serious] At the end of a job interview when they ask me, \"So, do you have any questions?\", what are some genuinely good questions to ask?',\n",
       " 'What is that one trick that \"they\" really don\\'t want you to know? [Serious]',\n",
       " '[Serious] Redditors who want Trump to become president, why?',\n",
       " '[Serious] People of Reddit who have HIV/AIDS, when did you realize something was wrong?']"
      ]
     },
     "execution_count": 82,
     "metadata": {},
     "output_type": "execute_result"
    }
   ],
   "source": [
    "# To list some titles have 'Serious'\n",
    "content[0:5]"
   ]
  },
  {
   "cell_type": "code",
   "execution_count": 98,
   "metadata": {
    "collapsed": false
   },
   "outputs": [
    {
     "data": {
      "text/html": [
       "<div>\n",
       "<table border=\"1\" class=\"dataframe\">\n",
       "  <thead>\n",
       "    <tr style=\"text-align: right;\">\n",
       "      <th></th>\n",
       "      <th>Title</th>\n",
       "      <th>Score</th>\n",
       "      <th>Time</th>\n",
       "      <th>Gold</th>\n",
       "      <th>NumComs</th>\n",
       "      <th>NSFW</th>\n",
       "      <th>MONTH</th>\n",
       "    </tr>\n",
       "  </thead>\n",
       "  <tbody>\n",
       "    <tr>\n",
       "      <th>5</th>\n",
       "      <td>[Serious] Redditors currently in a relationshi...</td>\n",
       "      <td>7598</td>\n",
       "      <td>2015-08-19 10:08:00</td>\n",
       "      <td>2</td>\n",
       "      <td>5389</td>\n",
       "      <td>False</td>\n",
       "      <td>8</td>\n",
       "    </tr>\n",
       "    <tr>\n",
       "      <th>13</th>\n",
       "      <td>[Serious] At the end of a job interview when t...</td>\n",
       "      <td>7133</td>\n",
       "      <td>2015-05-08 01:40:58</td>\n",
       "      <td>1</td>\n",
       "      <td>5850</td>\n",
       "      <td>False</td>\n",
       "      <td>5</td>\n",
       "    </tr>\n",
       "    <tr>\n",
       "      <th>18</th>\n",
       "      <td>What is that one trick that \"they\" really don'...</td>\n",
       "      <td>6701</td>\n",
       "      <td>2015-10-14 13:48:47</td>\n",
       "      <td>0</td>\n",
       "      <td>17724</td>\n",
       "      <td>False</td>\n",
       "      <td>10</td>\n",
       "    </tr>\n",
       "    <tr>\n",
       "      <th>22</th>\n",
       "      <td>[Serious] Redditors who want Trump to become p...</td>\n",
       "      <td>6526</td>\n",
       "      <td>2015-08-09 12:44:45</td>\n",
       "      <td>0</td>\n",
       "      <td>14580</td>\n",
       "      <td>False</td>\n",
       "      <td>8</td>\n",
       "    </tr>\n",
       "    <tr>\n",
       "      <th>24</th>\n",
       "      <td>[Serious] People of Reddit who have HIV/AIDS, ...</td>\n",
       "      <td>6472</td>\n",
       "      <td>2015-08-10 09:36:59</td>\n",
       "      <td>0</td>\n",
       "      <td>4296</td>\n",
       "      <td>False</td>\n",
       "      <td>8</td>\n",
       "    </tr>\n",
       "  </tbody>\n",
       "</table>\n",
       "</div>"
      ],
      "text/plain": [
       "                                                Title  Score  \\\n",
       "5   [Serious] Redditors currently in a relationshi...   7598   \n",
       "13  [Serious] At the end of a job interview when t...   7133   \n",
       "18  What is that one trick that \"they\" really don'...   6701   \n",
       "22  [Serious] Redditors who want Trump to become p...   6526   \n",
       "24  [Serious] People of Reddit who have HIV/AIDS, ...   6472   \n",
       "\n",
       "                  Time  Gold  NumComs   NSFW  MONTH  \n",
       "5  2015-08-19 10:08:00     2     5389  False      8  \n",
       "13 2015-05-08 01:40:58     1     5850  False      5  \n",
       "18 2015-10-14 13:48:47     0    17724  False     10  \n",
       "22 2015-08-09 12:44:45     0    14580  False      8  \n",
       "24 2015-08-10 09:36:59     0     4296  False      8  "
      ]
     },
     "execution_count": 98,
     "metadata": {},
     "output_type": "execute_result"
    }
   ],
   "source": [
    "data_serious = data.ix[content_index]\n",
    "data_serious.head()"
   ]
  },
  {
   "cell_type": "markdown",
   "metadata": {},
   "source": [
    "**8.Whether \"Serious\" can affect the number of comment?**"
   ]
  },
  {
   "cell_type": "code",
   "execution_count": 105,
   "metadata": {
    "collapsed": false
   },
   "outputs": [
    {
     "data": {
      "text/plain": [
       "array([ 0.07382148,  0.92617852])"
      ]
     },
     "execution_count": 105,
     "metadata": {},
     "output_type": "execute_result"
    }
   ],
   "source": [
    "Total_comment = list([sum(data_serious['NumComs']),sum(data['NumComs']) - sum(data_serious['NumComs'])])\n",
    "\n",
    "from __future__ import division\n",
    "Total_comment = Total_comment / sum(data['NumComs'])\n",
    "Total_comment"
   ]
  },
  {
   "cell_type": "code",
   "execution_count": 121,
   "metadata": {
    "collapsed": false
   },
   "outputs": [
    {
     "data": {
      "text/plain": [
       "(0.8, 1.8)"
      ]
     },
     "execution_count": 121,
     "metadata": {},
     "output_type": "execute_result"
    },
    {
     "data": {
      "image/png": "[encoded data removed]",
      "text/plain": [
       "<matplotlib.figure.Figure at 0x965ea30>"
      ]
     },
     "metadata": {},
     "output_type": "display_data"
    }
   ],
   "source": [
    "plt.bar([1,1.4], Total_comment*100, width=0.2)\n",
    "plt.xticks([1.1,1.5], ['Serious','No serious'])\n",
    "plt.ylabel('Percent(%)')\n",
    "plt.xlim([0.8,1.8])"
   ]
  },
  {
   "cell_type": "markdown",
   "metadata": {},
   "source": [
    "Although, you add \"Serious\" in your title, it doesn't mean you can get more comments. The number of commnents should be impacted by your content."
   ]
  },
  {
   "cell_type": "code",
   "execution_count": null,
   "metadata": {
    "collapsed": true
   },
   "outputs": [],
   "source": []
  }
 ],
 "metadata": {
  "kernelspec": {
   "display_name": "Python 2",
   "language": "python",
   "name": "python2"
  },
  "language_info": {
   "codemirror_mode": {
    "name": "ipython",
    "version": 2
   },
   "file_extension": ".py",
   "mimetype": "text/x-python",
   "name": "python",
   "nbconvert_exporter": "python",
   "pygments_lexer": "ipython2",
   "version": "2.7.11"
  }
 },
 "nbformat": 4,
 "nbformat_minor": 0
}
